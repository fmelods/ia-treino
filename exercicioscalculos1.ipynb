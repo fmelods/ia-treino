{
 "cells": [
  {
   "cell_type": "code",
   "execution_count": 7,
   "id": "71b08098-ccb6-4b07-afef-40e884008e01",
   "metadata": {},
   "outputs": [],
   "source": [
    "import math\n",
    "from scipy.stats import hmean, gmean"
   ]
  },
  {
   "cell_type": "code",
   "execution_count": 2,
   "id": "c1d70700-1543-49da-99cd-890f28644a46",
   "metadata": {},
   "outputs": [
    {
     "name": "stdout",
     "output_type": "stream",
     "text": [
      "Média Aritmética: 15.80\n"
     ]
    }
   ],
   "source": [
    "def media_aritmetica(valores):\n",
    "    return sum(valores) / len(valores)\n",
    "\n",
    "# Lista de valores\n",
    "x = [39, 38, 27, 22, 20, 17, 10, 10, 10, 10, 7, 7, 7, 7, 6]\n",
    "\n",
    "# Cálculo da média aritmética\n",
    "media_arit = media_aritmetica(x)\n",
    "print(f\"Média Aritmética: {media_arit:.2f}\")"
   ]
  },
  {
   "cell_type": "code",
   "execution_count": 9,
   "id": "979ae517-e212-4323-9544-8950ab8fe70b",
   "metadata": {},
   "outputs": [
    {
     "name": "stdout",
     "output_type": "stream",
     "text": [
      "Média Geométrica: 12.87\n"
     ]
    }
   ],
   "source": [
    "def media_geometrica(valores):\n",
    "    return gmean(valores)\n",
    "\n",
    "# Cálculo da média geométrica\n",
    "media_geo = media_geometrica(x)\n",
    "print(f\"Média Geométrica: {media_geo:.2f}\")"
   ]
  },
  {
   "cell_type": "code",
   "execution_count": null,
   "id": "043ca4a7-41fd-4086-b388-1beca387b3b4",
   "metadata": {},
   "outputs": [],
   "source": [
    "def media_harmonica(valores):\n",
    "    return hmean(valores)\n",
    "\n",
    "# Cálculo da média harmônica\n",
    "media_harm = media_harmonica(x)\n",
    "print(f\"Média Harmônica: {media_harm:.2f}\")"
   ]
  },
  {
   "cell_type": "code",
   "execution_count": null,
   "id": "a2aec629-c31b-4f00-87ec-028047f6a0b2",
   "metadata": {},
   "outputs": [],
   "source": [
    "if media_arit > media_geo > media_harm:\n",
    "    print(\"x̅ aritmética > x̅ geométrica > x̅ harmônica é verdadeira.\")\n",
    "else:\n",
    "    print(\"A relação não é verdadeira.\")"
   ]
  },
  {
   "cell_type": "code",
   "execution_count": 4,
   "id": "527b75e5-8a8f-41e5-b96e-1a8e1c00e7a8",
   "metadata": {},
   "outputs": [
    {
     "name": "stdout",
     "output_type": "stream",
     "text": [
      "Média Ponderada: 21.96\n"
     ]
    }
   ],
   "source": [
    "def media_ponderada(valores, pesos):\n",
    "    # Verifica se os dois vetores têm o mesmo tamanho\n",
    "    if len(valores) != len(pesos):\n",
    "        raise ValueError(\"Os vetores de valores e pesos devem ter o mesmo tamanho.\")\n",
    "    \n",
    "    # Calcula a média ponderada\n",
    "    soma_pesos = sum(pesos)\n",
    "    soma_ponderada = sum(v * p for v, p in zip(valores, pesos))\n",
    "    \n",
    "    return soma_ponderada / soma_pesos\n",
    "\n",
    "# Lista de valores e pesos\n",
    "x = [39, 38, 27, 22, 20, 17, 10, 10, 10, 10, 7, 7, 7, 7, 6]\n",
    "w = [113, 88, 58, 65, 71, 46, 36, 33, 37, 40, 24, 21, 20, 15, 20]\n",
    "\n",
    "# Cálculo da média ponderada\n",
    "media_pond = media_ponderada(x, w)\n",
    "print(f\"Média Ponderada: {media_pond:.2f}\")\n"
   ]
  },
  {
   "cell_type": "code",
   "execution_count": 5,
   "id": "eb0cec60-e82d-4c74-8bd6-24575507136c",
   "metadata": {},
   "outputs": [
    {
     "name": "stdout",
     "output_type": "stream",
     "text": [
      "Mediana: 10\n"
     ]
    }
   ],
   "source": [
    "def calcular_mediana(valores):\n",
    "    # Ordena a lista\n",
    "    valores.sort()\n",
    "    \n",
    "    # Verifica se o número de elementos é par ou ímpar\n",
    "    n = len(valores)\n",
    "    meio = n // 2\n",
    "    \n",
    "    # Se o número de elementos for ímpar, retorna o elemento do meio\n",
    "    if n % 2 != 0:\n",
    "        return valores[meio]\n",
    "    else:\n",
    "        # Se for par, retorna a média dos dois elementos do meio\n",
    "        return (valores[meio - 1] + valores[meio]) / 2\n",
    "\n",
    "# Lista de valores\n",
    "x = [39, 39, 27, 22, 20, 17, 10, 10, 10, 10, 7, 7, 7, 7, 6]\n",
    "\n",
    "# Cálculo da mediana\n",
    "mediana = calcular_mediana(x)\n",
    "print(f\"Mediana: {mediana}\")\n"
   ]
  },
  {
   "cell_type": "code",
   "execution_count": 6,
   "id": "67bd48b1-7b4b-469b-9987-57820c8ab63e",
   "metadata": {},
   "outputs": [
    {
     "name": "stdout",
     "output_type": "stream",
     "text": [
      "Moda: [7, 10]\n"
     ]
    }
   ],
   "source": [
    "def calcular_moda(valores):\n",
    "    # Conta as ocorrências de cada valor na lista\n",
    "    frequencia = {v: valores.count(v) for v in set(valores)}\n",
    "    \n",
    "    # Encontra o valor com o maior número de ocorrências\n",
    "    moda = max(frequencia, key=frequencia.get)\n",
    "    \n",
    "    # Verifica se há mais de uma moda (multimodalidade)\n",
    "    max_ocorrencias = frequencia[moda]\n",
    "    modas = [v for v, freq in frequencia.items() if freq == max_ocorrencias]\n",
    "    \n",
    "    if len(modas) > 1:\n",
    "        return modas  # Multimodal\n",
    "    else:\n",
    "        return moda   # Unimodal\n",
    "\n",
    "# Cálculo da moda\n",
    "moda = calcular_moda(x)\n",
    "print(f\"Moda: {moda}\")\n"
   ]
  },
  {
   "cell_type": "code",
   "execution_count": null,
   "id": "849028a0-df24-4322-b89b-db42cd3ae2e1",
   "metadata": {},
   "outputs": [],
   "source": []
  }
 ],
 "metadata": {
  "kernelspec": {
   "display_name": "Python 3 (ipykernel)",
   "language": "python",
   "name": "python3"
  },
  "language_info": {
   "codemirror_mode": {
    "name": "ipython",
    "version": 3
   },
   "file_extension": ".py",
   "mimetype": "text/x-python",
   "name": "python",
   "nbconvert_exporter": "python",
   "pygments_lexer": "ipython3",
   "version": "3.12.2"
  }
 },
 "nbformat": 4,
 "nbformat_minor": 5
}
