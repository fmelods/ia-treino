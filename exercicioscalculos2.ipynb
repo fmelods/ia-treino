{
 "cells": [
  {
   "cell_type": "code",
   "execution_count": null,
   "id": "69f0f77d-3299-4442-9fc0-eb843f09ae6d",
   "metadata": {},
   "outputs": [],
   "source": [
    "def variancia_amostral(valores):\n",
    "    n = len(valores)\n",
    "    media = sum(valores) / n\n",
    "    variancia = sum((x - media) ** 2 for x in valores) / (n - 1)\n",
    "    return variancia\n",
    "\n",
    "# Lista de valores\n",
    "x = [39, 38, 27, 22, 20, 17, 10, 10, 10, 10, 7, 7, 7, 7, 6]\n",
    "\n",
    "# Cálculo da variância amostral\n",
    "var_amostral = variancia_amostral(x)\n",
    "print(f\"Variância Amostral: {var_amostral:.2f}\")"
   ]
  },
  {
   "cell_type": "code",
   "execution_count": null,
   "id": "b3bc0b5d-16af-4b82-a0d5-7b0a326f7308",
   "metadata": {},
   "outputs": [],
   "source": [
    "def variancia_populacional(valores):\n",
    "    n = len(valores)\n",
    "    media = sum(valores) / n\n",
    "    variancia = sum((x - media) ** 2 for x in valores) / n\n",
    "    return variancia\n",
    "\n",
    "# Cálculo da variância populacional\n",
    "var_populacional = variancia_populacional(x)\n",
    "print(f\"Variância Populacional: {var_populacional:.2f}\")\n"
   ]
  },
  {
   "cell_type": "code",
   "execution_count": null,
   "id": "33c2f554-8ff9-44ac-83c9-3a035770dc81",
   "metadata": {},
   "outputs": [],
   "source": [
    "def desvio_padrao_amostral(valores):\n",
    "    var_amostral = variancia_amostral(valores)\n",
    "    desvio_padrao = var_amostral ** 0.5\n",
    "    return desvio_padrao\n",
    "\n",
    "# Cálculo do desvio padrão amostral\n",
    "desvio_amostral = desvio_padrao_amostral(x)\n",
    "print(f\"Desvio Padrão Amostral: {desvio_amostral:.2f}\")\n"
   ]
  },
  {
   "cell_type": "code",
   "execution_count": null,
   "id": "99db3acd-3a68-4a58-a4da-d0f72641d850",
   "metadata": {},
   "outputs": [],
   "source": [
    "def desvio_padrao_populacional(valores):\n",
    "    var_populacional = variancia_populacional(valores)\n",
    "    desvio_padrao = var_populacional ** 0.5\n",
    "    return desvio_padrao\n",
    "\n",
    "# Cálculo do desvio padrão populacional\n",
    "desvio_populacional = desvio_padrao_populacional(x)\n",
    "print(f\"Desvio Padrão Populacional: {desvio_populacional:.2f}\")\n"
   ]
  },
  {
   "cell_type": "code",
   "execution_count": null,
   "id": "5d5a41ba-bab7-46f5-91b8-8346fa48f82b",
   "metadata": {},
   "outputs": [],
   "source": [
    "def incerteza_media(valores):\n",
    "    desvio_amostral = desvio_padrao_amostral(valores)\n",
    "    n = len(valores)\n",
    "    incerteza = desvio_amostral / (n ** 0.5)\n",
    "    return incerteza\n",
    "\n",
    "# Cálculo da incerteza da média\n",
    "incerteza = incerteza_media(x)\n",
    "print(f\"Incerteza da Média: {incerteza:.2f}\")\n"
   ]
  }
 ],
 "metadata": {
  "kernelspec": {
   "display_name": "Python 3 (ipykernel)",
   "language": "python",
   "name": "python3"
  },
  "language_info": {
   "codemirror_mode": {
    "name": "ipython",
    "version": 3
   },
   "file_extension": ".py",
   "mimetype": "text/x-python",
   "name": "python",
   "nbconvert_exporter": "python",
   "pygments_lexer": "ipython3",
   "version": "3.12.2"
  }
 },
 "nbformat": 4,
 "nbformat_minor": 5
}
