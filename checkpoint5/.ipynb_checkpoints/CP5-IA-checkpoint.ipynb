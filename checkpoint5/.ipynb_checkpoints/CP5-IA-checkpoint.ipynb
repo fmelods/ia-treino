{
 "cells": [
  {
   "cell_type": "markdown",
   "id": "9e59adbc",
   "metadata": {},
   "source": [
    "# AVALIAÇÃO CP1 REALIZADA POR:\n",
    "##### FELIPE MELO DE SOUSA **(RM 556099)**\n",
    "##### HEITOR ROMERO DA ROCHA **(RM 558301)**\n",
    "##### LEONARDO MATHEUS TEIXEIRA **(RM 556629)**"
   ]
  },
  {
   "cell_type": "markdown",
   "id": "b5d21834",
   "metadata": {},
   "source": [
    "### Escolhemos um dataset com amostras de dados de saúde mental.\n",
    "\n",
    "#### **Qual é a faixa de horas de sono mais comum entre os indivíduos do dataset e o que isso pode indicar sobre a qualidade do sono da amostra?**"
   ]
  },
  {
   "cell_type": "code",
   "execution_count": null,
   "id": "27b32c27-b278-438a-a916-b8ab247a3deb",
   "metadata": {},
   "outputs": [],
   "source": [
    "import pandas as pd\n",
    "import matplotlib.pyplot as plt\n",
    "import seaborn as sns\n",
    "from sklearn.model_selection import train_test_split\n",
    "from sklearn.linear_model import LinearRegression\n",
    "from sklearn.metrics import r2_score, mean_squared_error\n",
    "\n",
    "# Carregando o dataset\n",
    "data = pd.read_csv('saudemental.csv')\n",
    "\n",
    "# Exibindo as primeiras linhas do dataset\n",
    "data.head()"
   ]
  },
  {
   "cell_type": "code",
   "execution_count": 8,
   "id": "ec8b98d2-5e92-43d6-b066-288b08f66a6e",
   "metadata": {},
   "outputs": [
    {
     "name": "stdout",
     "output_type": "stream",
     "text": [
      "Index(['gender', 'age', 'university', 'degree_level', 'degree_major',\n",
      "       'academic_year', 'cgpa', 'residential_status', 'campus_discrimination',\n",
      "       'sports_engagement', 'average_sleep', 'study_satisfaction',\n",
      "       'academic_workload ', 'academic_pressure', 'financial_concerns',\n",
      "       'social_relationships', 'depression', 'anxiety', 'isolation',\n",
      "       'future_insecurity', 'stress_relief_activities'],\n",
      "      dtype='object')\n"
     ]
    }
   ],
   "source": [
    "print(data.columns)"
   ]
  },
  {
   "cell_type": "code",
   "execution_count": 6,
   "id": "218bf962-6ae0-4b53-81cb-5044f6db20ab",
   "metadata": {},
   "outputs": [
    {
     "name": "stdout",
     "output_type": "stream",
     "text": [
      "O dataset possui 87 linhas e 21 colunas.\n"
     ]
    }
   ],
   "source": [
    "# Contando quantas linhas e colunas temos dentro do arquivo\n",
    "linhas, colunas = data.shape\n",
    "\n",
    "# Exibindo o resultado\n",
    "print(f\"O dataset possui {linhas} linhas e {colunas} colunas.\")"
   ]
  },
  {
   "cell_type": "code",
   "execution_count": 7,
   "id": "8638a2bf-4923-4778-b88e-b09c77fb27a1",
   "metadata": {},
   "outputs": [
    {
     "name": "stdout",
     "output_type": "stream",
     "text": [
      "<class 'pandas.core.frame.DataFrame'>\n",
      "RangeIndex: 87 entries, 0 to 86\n",
      "Data columns (total 21 columns):\n",
      " #   Column                    Non-Null Count  Dtype \n",
      "---  ------                    --------------  ----- \n",
      " 0   gender                    87 non-null     object\n",
      " 1   age                       87 non-null     int64 \n",
      " 2   university                87 non-null     object\n",
      " 3   degree_level              87 non-null     object\n",
      " 4   degree_major              87 non-null     object\n",
      " 5   academic_year             87 non-null     object\n",
      " 6   cgpa                      87 non-null     object\n",
      " 7   residential_status        87 non-null     object\n",
      " 8   campus_discrimination     87 non-null     object\n",
      " 9   sports_engagement         87 non-null     object\n",
      " 10  average_sleep             87 non-null     object\n",
      " 11  study_satisfaction        87 non-null     int64 \n",
      " 12  academic_workload         87 non-null     int64 \n",
      " 13  academic_pressure         87 non-null     int64 \n",
      " 14  financial_concerns        87 non-null     int64 \n",
      " 15  social_relationships      87 non-null     int64 \n",
      " 16  depression                87 non-null     int64 \n",
      " 17  anxiety                   87 non-null     int64 \n",
      " 18  isolation                 87 non-null     int64 \n",
      " 19  future_insecurity         87 non-null     int64 \n",
      " 20  stress_relief_activities  87 non-null     object\n",
      "dtypes: int64(10), object(11)\n",
      "memory usage: 14.4+ KB\n"
     ]
    }
   ],
   "source": [
    "# Identificando o tipo de cada coluna\n",
    "data.info()"
   ]
  },
  {
   "cell_type": "code",
   "execution_count": 11,
   "id": "bcd343db-39fd-41fb-a2dc-79077f1cb7e4",
   "metadata": {},
   "outputs": [
    {
     "name": "stdout",
     "output_type": "stream",
     "text": [
      "gender                      0\n",
      "age                         0\n",
      "university                  0\n",
      "degree_level                0\n",
      "degree_major                0\n",
      "academic_year               0\n",
      "cgpa                        0\n",
      "residential_status          0\n",
      "campus_discrimination       0\n",
      "sports_engagement           0\n",
      "average_sleep               0\n",
      "study_satisfaction          0\n",
      "academic_workload           0\n",
      "academic_pressure           0\n",
      "financial_concerns          0\n",
      "social_relationships        0\n",
      "depression                  0\n",
      "anxiety                     0\n",
      "isolation                   0\n",
      "future_insecurity           0\n",
      "stress_relief_activities    0\n",
      "dtype: int64\n"
     ]
    }
   ],
   "source": [
    "# Com o código abaixo, estou verificando se há dados faltantes nas colunas!\n",
    "print(data.isnull().sum())"
   ]
  },
  {
   "cell_type": "code",
   "execution_count": 13,
   "id": "9c6da66a-2879-440f-80a9-d8e4c6daf136",
   "metadata": {},
   "outputs": [],
   "source": [
    "# Com o código anterior identificamos que não há dados faltantes em nenhuma coluna!"
   ]
  },
  {
   "cell_type": "code",
   "execution_count": 16,
   "id": "e93cc1a4-add6-425c-ac45-9a73d7c6e98d",
   "metadata": {},
   "outputs": [],
   "source": [
    "# Caso houvessem, para seu tratamento poderíamos faze da seguinte forma:\n",
    "\n",
    "# Preenchendo valores faltantes com a mediana (para variáveis numéricas)\n",
    "# data['average_sleep'].fillna(data['average_sleep'].median(), inplace=True)\n",
    "\n",
    "# Preenchendo valores faltantes com a moda (para variáveis categóricas)\n",
    "# data['gender'].fillna(data['gender'].mode()[0], inplace=True)"
   ]
  },
  {
   "cell_type": "code",
   "execution_count": 17,
   "id": "aa8950a6-60a7-43b5-8c82-acdb0ed3e73c",
   "metadata": {},
   "outputs": [
    {
     "data": {
      "image/png": "[encoded data removed]",
      "text/plain": [
       "<Figure size 640x480 with 1 Axes>"
      ]
     },
     "metadata": {},
     "output_type": "display_data"
    }
   ],
   "source": [
    "# Gráfico de barras para variável categórica\n",
    "sns.countplot(data=data, x='gender')\n",
    "plt.title('Distribuição de Gênero')\n",
    "plt.show()"
   ]
  },
  {
   "cell_type": "code",
   "execution_count": 18,
   "id": "a2fb6f40-1fcc-4770-b0f7-e6a1cc25c0b3",
   "metadata": {},
   "outputs": [
    {
     "data": {
      "image/png": "[encoded data removed]",
      "text/plain": [
       "<Figure size 640x480 with 1 Axes>"
      ]
     },
     "metadata": {},
     "output_type": "display_data"
    }
   ],
   "source": [
    "# Gráfico de dispersão entre 'average_sleep' e 'cgpa'\n",
    "sns.scatterplot(data=data, x='average_sleep', y='cgpa')\n",
    "plt.title('Relação entre Horas de Sono e CGPA')\n",
    "plt.show()"
   ]
  },
  {
   "cell_type": "code",
   "execution_count": 19,
   "id": "076f581f-a3a4-4de0-9c7c-a372ab0eaec8",
   "metadata": {},
   "outputs": [
    {
     "data": {
      "image/png": "[encoded data removed]",
      "text/plain": [
       "<Figure size 640x480 with 1 Axes>"
      ]
     },
     "metadata": {},
     "output_type": "display_data"
    }
   ],
   "source": [
    "# Histogramas para distribuição das variáveis numéricas\n",
    "data['average_sleep'].hist(bins=10)\n",
    "plt.title('Distribuição de Horas de Sono')\n",
    "plt.xlabel('Horas de Sono')\n",
    "plt.ylabel('Frequência')\n",
    "plt.show()"
   ]
  },
  {
   "cell_type": "code",
   "execution_count": 20,
   "id": "c62dd9e2-c2f5-49c4-baae-7ade08e72915",
   "metadata": {},
   "outputs": [
    {
     "name": "stdout",
     "output_type": "stream",
     "text": [
      "             age  study_satisfaction  academic_workload   academic_pressure  \\\n",
      "count  87.000000           87.000000           87.000000          87.000000   \n",
      "mean   19.942529            3.931034            3.885057           3.781609   \n",
      "std     1.623636            1.043174            0.854880           1.125035   \n",
      "min    17.000000            1.000000            2.000000           1.000000   \n",
      "25%    19.000000            3.000000            3.000000           3.000000   \n",
      "50%    20.000000            4.000000            4.000000           4.000000   \n",
      "75%    21.000000            5.000000            4.500000           5.000000   \n",
      "max    26.000000            5.000000            5.000000           5.000000   \n",
      "\n",
      "       financial_concerns  social_relationships  depression    anxiety  \\\n",
      "count           87.000000             87.000000   87.000000  87.000000   \n",
      "mean             3.390805              2.781609    3.218391   3.218391   \n",
      "std              1.400634              1.175578    1.367609   1.297809   \n",
      "min              1.000000              1.000000    1.000000   1.000000   \n",
      "25%              2.500000              2.000000    2.000000   2.000000   \n",
      "50%              3.000000              3.000000    3.000000   3.000000   \n",
      "75%              5.000000              4.000000    4.000000   4.000000   \n",
      "max              5.000000              5.000000    5.000000   5.000000   \n",
      "\n",
      "       isolation  future_insecurity  \n",
      "count  87.000000          87.000000  \n",
      "mean    3.241379           3.011494  \n",
      "std     1.405682           1.385089  \n",
      "min     1.000000           1.000000  \n",
      "25%     2.000000           2.000000  \n",
      "50%     3.000000           3.000000  \n",
      "75%     4.500000           4.000000  \n",
      "max     5.000000           5.000000  \n"
     ]
    }
   ],
   "source": [
    "# Estatísticas descritivas para variáveis numéricas\n",
    "print(data.describe())"
   ]
  },
  {
   "cell_type": "code",
   "execution_count": 13,
   "id": "84027289-1650-46c0-a683-4633ffd8a4a7",
   "metadata": {},
   "outputs": [
    {
     "name": "stdout",
     "output_type": "stream",
     "text": [
      "Tamanho do conjunto de treino: (69, 4)\n",
      "Tamanho do conjunto de teste: (18, 4)\n"
     ]
    }
   ],
   "source": [
    "from sklearn.model_selection import train_test_split\n",
    "\n",
    "# Selecionando as variáveis preditoras e a variável alvo\n",
    "X = data[['average_sleep', 'academic_pressure', 'social_relationships', 'future_insecurity']]\n",
    "y = data['anxiety']\n",
    "\n",
    "# Dividindo os dados em treino e teste (80% treino, 20% teste)\n",
    "X_train, X_test, y_train, y_test = train_test_split(X, y, test_size=0.2, random_state=42)\n",
    "\n",
    "# Exibindo as dimensões dos conjuntos de treino e teste\n",
    "print(f\"Tamanho do conjunto de treino: {X_train.shape}\")\n",
    "print(f\"Tamanho do conjunto de teste: {X_test.shape}\")\n"
   ]
  },
  {
   "cell_type": "code",
   "execution_count": 26,
   "id": "4c104264-8a0a-4a63-bc5e-c2696d0f735a",
   "metadata": {},
   "outputs": [
    {
     "name": "stdout",
     "output_type": "stream",
     "text": [
      "anxiety\n",
      "5    15\n",
      "4    15\n",
      "3    11\n",
      "2     9\n",
      "1     5\n",
      "Name: count, dtype: int64\n",
      "Acurácia: 0.27\n",
      "Precisão: 0.47\n",
      "Recall: 0.27\n",
      "Matriz de Confusão:\n",
      "[[0 0 0 0 1]\n",
      " [0 1 1 1 0]\n",
      " [0 0 0 2 0]\n",
      " [0 0 0 1 0]\n",
      " [0 0 2 1 1]]\n",
      "Relatório de Classificação:\n",
      "              precision    recall  f1-score   support\n",
      "\n",
      "           1       0.00      0.00      0.00         1\n",
      "           2       1.00      0.33      0.50         3\n",
      "           3       0.00      0.00      0.00         2\n",
      "           4       0.20      1.00      0.33         1\n",
      "           5       0.50      0.25      0.33         4\n",
      "\n",
      "    accuracy                           0.27        11\n",
      "   macro avg       0.34      0.32      0.23        11\n",
      "weighted avg       0.47      0.27      0.29        11\n",
      "\n"
     ]
    }
   ],
   "source": [
    "from sklearn.model_selection import train_test_split\n",
    "from sklearn.neighbors import KNeighborsClassifier\n",
    "from sklearn.metrics import accuracy_score, precision_score, recall_score, confusion_matrix, classification_report\n",
    "\n",
    "# Verificando a distribuição das classes\n",
    "print(y.value_counts())\n",
    "\n",
    "# Configurando o zero_division para lidar com classes indefinidas\n",
    "\n",
    "# Avaliando o desempenho do modelo\n",
    "accuracy = accuracy_score(y_test, y_pred)\n",
    "precision = precision_score(y_test, y_pred, average='weighted', zero_division=0)\n",
    "recall = recall_score(y_test, y_pred, average='weighted', zero_division=0)\n",
    "\n",
    "# Exibindo as métricas de avaliação\n",
    "print(f\"Acurácia: {accuracy:.2f}\")\n",
    "print(f\"Precisão: {precision:.2f}\")\n",
    "print(f\"Recall: {recall:.2f}\")\n",
    "\n",
    "# Exibindo a matriz de confusão\n",
    "conf_matrix = confusion_matrix(y_test, y_pred)\n",
    "print(\"Matriz de Confusão:\")\n",
    "print(conf_matrix)\n",
    "\n",
    "# Relatório de Classificação\n",
    "print(\"Relatório de Classificação:\")\n",
    "print(classification_report(y_test, y_pred, zero_division=0))\n"
   ]
  },
  {
   "cell_type": "markdown",
   "id": "67cded9f",
   "metadata": {},
   "source": [
    "\n",
    "### **Após análise treinamos um modelo e tiramos a conclusão que:**\n",
    "\n",
    "##### A faixa de horas de sono mais comum é entre 4-6 horas, com cerca de 50 indivíduos nessa categoria. \n",
    "\n",
    "##### Isso pode indicar que a maioria das pessoas na amostra está dormindo menos do que o recomendado (7-8 horas de sono), o que pode sugerir uma possível privação de sono entre grande parte da amostra. \n",
    "\n",
    "##### Esse padrão pode estar relacionado a fatores como estresse, trabalho, ou problemas de saúde, que afetam a qualidade do sono e, consequentemente, a saúde mental."
   ]
  },
  {
   "cell_type": "markdown",
   "id": "2044106d",
   "metadata": {},
   "source": []
  },
  {
   "cell_type": "markdown",
   "id": "74220e1d",
   "metadata": {},
   "source": []
  }
 ],
 "metadata": {
  "kernelspec": {
   "display_name": "Python 3 (ipykernel)",
   "language": "python",
   "name": "python3"
  },
  "language_info": {
   "codemirror_mode": {
    "name": "ipython",
    "version": 3
   },
   "file_extension": ".py",
   "mimetype": "text/x-python",
   "name": "python",
   "nbconvert_exporter": "python",
   "pygments_lexer": "ipython3",
   "version": "3.12.2"
  }
 },
 "nbformat": 4,
 "nbformat_minor": 5
}
